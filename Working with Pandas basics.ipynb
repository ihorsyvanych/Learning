{
  "nbformat": 4,
  "nbformat_minor": 0,
  "metadata": {
    "colab": {
      "name": "syvanych_dz2.ipynb",
      "provenance": [],
      "collapsed_sections": []
    },
    "kernelspec": {
      "name": "python3",
      "display_name": "Python 3"
    }
  },
  "cells": [
    {
      "cell_type": "code",
      "metadata": {
        "id": "40934UEVBlkT",
        "colab_type": "code",
        "colab": {
          "base_uri": "https://localhost:8080/",
          "height": 122
        },
        "outputId": "a6165244-8f89-4d13-8130-d19f55f826a4"
      },
      "source": [
        "from google.colab import drive\n",
        "drive.mount('/gdrive')"
      ],
      "execution_count": 2,
      "outputs": [
        {
          "output_type": "stream",
          "text": [
            "Go to this URL in a browser: https://accounts.google.com/o/oauth2/auth?client_id=947318989803-6bn6qk8qdgf4n4g3pfee6491hc0brc4i.apps.googleusercontent.com&redirect_uri=urn%3aietf%3awg%3aoauth%3a2.0%3aoob&scope=email%20https%3a%2f%2fwww.googleapis.com%2fauth%2fdocs.test%20https%3a%2f%2fwww.googleapis.com%2fauth%2fdrive%20https%3a%2f%2fwww.googleapis.com%2fauth%2fdrive.photos.readonly%20https%3a%2f%2fwww.googleapis.com%2fauth%2fpeopleapi.readonly&response_type=code\n",
            "\n",
            "Enter your authorization code:\n",
            "··········\n",
            "Mounted at /gdrive\n"
          ],
          "name": "stdout"
        }
      ]
    },
    {
      "cell_type": "code",
      "metadata": {
        "id": "YQpOANDsr9_5",
        "colab_type": "code",
        "colab": {}
      },
      "source": [
        "from zipfile import ZipFile \n",
        "with ZipFile('/gdrive/My Drive/data.zip', 'r') as zipObj: ##розархівування\n",
        "   zipObj.extractall(path='/gdrive/My Drive/')"
      ],
      "execution_count": null,
      "outputs": []
    },
    {
      "cell_type": "code",
      "metadata": {
        "id": "5DpgrUIo6udL",
        "colab_type": "code",
        "colab": {}
      },
      "source": [
        "import nltk"
      ],
      "execution_count": 10,
      "outputs": []
    },
    {
      "cell_type": "code",
      "metadata": {
        "id": "tWunDfodnZk4",
        "colab_type": "code",
        "colab": {}
      },
      "source": [
        "nltk.download('all')"
      ],
      "execution_count": null,
      "outputs": []
    },
    {
      "cell_type": "code",
      "metadata": {
        "id": "OTS9Quch2X1O",
        "colab_type": "code",
        "colab": {
          "base_uri": "https://localhost:8080/",
          "height": 51
        },
        "outputId": "d2f2409b-70af-4223-cbd6-49be10de01ed"
      },
      "source": [
        "import os\n",
        "import pandas as pd\n",
        "import numpy as np\n",
        "import glob\n",
        "\n",
        "vocabulary={}\n",
        "booktype = next(os.walk('/gdrive/My Drive/data/'))[1]   ##підрахунок кількості папок \n",
        "a=len(booktype)\n",
        "print(a)\n",
        "print(booktype)\n",
        "i=0"
      ],
      "execution_count": 3,
      "outputs": [
        {
          "output_type": "stream",
          "text": [
            "7\n",
            "['RELIGION', 'JOURNAL', 'TALES', 'ADVENTUR', 'CHILD', 'DETECT', 'FANTAST']\n"
          ],
          "name": "stdout"
        }
      ]
    },
    {
      "cell_type": "code",
      "metadata": {
        "id": "zleKgrUu5lIP",
        "colab_type": "code",
        "colab": {}
      },
      "source": [
        "while i < a:   //пункт 4a i 4b з дз\n",
        "  booktype = os.listdir('/gdrive/My Drive/data/')\n",
        "  print(i)\n",
        "  print(booktype[i])\n",
        "  print(bookdf)\n",
        "  bookdf.to_string('/gdrive/My Drive/data/'+booktype[i-1]+'.txt')\n",
        "  print('/gdrive/My Drive/data/'+booktype[i-1]+'.txt')\n",
        "  for root, dirs, files in os.walk('/gdrive/My Drive/data/'+booktype[i]+'/', topdown=False):\n",
        "    for name in files:\n",
        "     book = os.path.join(root,name)\n",
        "     bookname = os.path.join(name)\n",
        "     booktype=os.path.basename(os.path.dirname(root))\n",
        "     with open(book, encoding='latin1') as f:\n",
        "       mylist1 = f.read()\n",
        "       bookdf=pd.DataFrame({'booktext':mylist1}, index=[booktype])    \n",
        "  i+=1"
      ],
      "execution_count": null,
      "outputs": []
    },
    {
      "cell_type": "code",
      "metadata": {
        "id": "wiHXiA4eMYHp",
        "colab_type": "code",
        "colab": {
          "base_uri": "https://localhost:8080/",
          "height": 1000
        },
        "outputId": "55327ba8-5911-4e99-e56f-ade1cbf8b8e4"
      },
      "source": [
        "books = glob.glob(r'/gdrive/My Drive/data/*.txt')   ##пункт 5 i 6 з дз\n",
        "i=0\n",
        "while i < len(books):\n",
        "  booknameofgroup = os.path.splitext(os.path.basename(books[i]))[0]\n",
        "  with open(books[i], encoding='latin1') as f:\n",
        "   mylist1 = f.read()\n",
        "##   mylist =(mylist1.split())\n",
        "   from nltk.tokenize import TweetTokenizer\n",
        "   tknzr = TweetTokenizer()\n",
        "   from nltk.stem import WordNetLemmatizer   \n",
        "   lemmatizer = WordNetLemmatizer() \n",
        "   mylist2=tknzr.tokenize(mylist1)\n",
        "   k=0\n",
        "   while k<len(mylist2):\n",
        "    mylist2[k-1] = lemmatizer.lemmatize(mylist2[k])\n",
        "    k+=1\n",
        "  for item in mylist:\n",
        "   if item in vocabulary:\n",
        "     vocabulary[item]+=1\n",
        "   else: \n",
        "     vocabulary[item]=1         \n",
        "  vocabulary\n",
        "  words = pd.Series(list(vocabulary.keys()))\n",
        "  counts=pd.Series(list(vocabulary.values()))\n",
        "  df1=pd.DataFrame({'word':words,'counts':counts})\n",
        "  prob=len(df1)\n",
        "  df1['Probability']=df1['counts'].apply(lambda item:item/prob)\n",
        "  prob = df1['Probability']\n",
        "  df1=df1.sort_values(by=['Probability'], ascending=False)\n",
        "  df1.to_csv('/gdrive/My Drive/data/'+booknameofgroup+'.csv', encoding='utf-8')\n",
        "  print(df1)\n",
        "  i+=1"
      ],
      "execution_count": 126,
      "outputs": [
        {
          "output_type": "stream",
          "text": [
            "                 word  counts  Probability\n",
            "3                   \\  235403     6.032726\n",
            "4                   n  222273     5.696240\n",
            "59                  ,  167615     4.295508\n",
            "52                the  151082     3.871813\n",
            "9                 and   90045     2.307604\n",
            "...               ...     ...          ...\n",
            "30140        relative       1     0.000026\n",
            "30143  dwelling-house       1     0.000026\n",
            "30145    disagreement       1     0.000026\n",
            "30146         subsist       1     0.000026\n",
            "39020         chujnia       1     0.000026\n",
            "\n",
            "[39021 rows x 3 columns]\n",
            "              word  counts  Probability\n",
            "3                \\  335312     8.593117\n",
            "4                n  326787     8.374644\n",
            "59               ,  238188     6.104098\n",
            "52             the  213146     5.462341\n",
            "9              and  128892     3.303144\n",
            "...            ...     ...          ...\n",
            "31803   dimensions       1     0.000026\n",
            "31804  rowing-boat       1     0.000026\n",
            "31805   Mylnefield       1     0.000026\n",
            "31806     ncutters       1     0.000026\n",
            "29741       nferry       1     0.000026\n",
            "\n",
            "[39021 rows x 3 columns]\n",
            "                word  counts  Probability\n",
            "3                  \\  435221    11.153507\n",
            "4                  n  431301    11.053048\n",
            "59                 ,  308761     7.912688\n",
            "52               the  275210     7.052869\n",
            "9                and  167739     4.298685\n",
            "...              ...     ...          ...\n",
            "30251  Christmas-day       1     0.000026\n",
            "30252       schooner       1     0.000026\n",
            "30254        replica       1     0.000026\n",
            "30255         bilged       1     0.000026\n",
            "29264           25TH       1     0.000026\n",
            "\n",
            "[39021 rows x 3 columns]\n",
            "                            word  counts  Probability\n",
            "4                              n  535815    13.731452\n",
            "3                              \\  535130    13.713898\n",
            "59                             ,  379334     9.721278\n",
            "52                           the  337274     8.643397\n",
            "9                            and  206586     5.294226\n",
            "...                          ...     ...          ...\n",
            "31432                chain-cable       1     0.000026\n",
            "31433                hand-spikes       1     0.000026\n",
            "25225  hard-time-for-me-and-Alex       1     0.000026\n",
            "31435                     mizzen       1     0.000026\n",
            "28981                  nInvermay       1     0.000026\n",
            "\n",
            "[39021 rows x 3 columns]\n",
            "               word  counts  Probability\n",
            "4                 n  640329    16.409856\n",
            "3                 \\  635039    16.274288\n",
            "59                ,  449907    11.529869\n",
            "52              the  399338    10.233925\n",
            "9               and  245433     6.289767\n",
            "...             ...     ...          ...\n",
            "31223         Ledge       1     0.000026\n",
            "24755       connect       1     0.000026\n",
            "31226  nsteadfastly       1     0.000026\n",
            "31227       effaced       1     0.000026\n",
            "28781   Institution       1     0.000026\n",
            "\n",
            "[39021 rows x 3 columns]\n",
            "             word  counts  Probability\n",
            "4               n  744843    19.088260\n",
            "3               \\  734948    18.834679\n",
            "59              ,  520480    13.338459\n",
            "52            the  461402    11.824453\n",
            "9             and  284280     7.285308\n",
            "...           ...     ...          ...\n",
            "24569  compeition       1     0.000026\n",
            "24568     fuckers       1     0.000026\n",
            "31114       nsuit       1     0.000026\n",
            "24564       Druid       1     0.000026\n",
            "30135      straps       1     0.000026\n",
            "\n",
            "[39021 rows x 3 columns]\n",
            "               word  counts  Probability\n",
            "4                 n  849357    21.766664\n",
            "3                 \\  834857    21.395069\n",
            "59                ,  591053    15.147049\n",
            "52              the  523466    13.414982\n",
            "9               and  323127     8.280849\n",
            "...             ...     ...          ...\n",
            "30055          DUTY       1     0.000026\n",
            "30058  nlightkeeper       1     0.000026\n",
            "30060   shipmasters       1     0.000026\n",
            "30062      regulate       1     0.000026\n",
            "28513       nKittes       1     0.000026\n",
            "\n",
            "[39021 rows x 3 columns]\n"
          ],
          "name": "stdout"
        }
      ]
    }
  ]
}