{
  "nbformat": 4,
  "nbformat_minor": 0,
  "metadata": {
    "colab": {
      "name": "syvanych_dz6.ipynb",
      "provenance": [],
      "collapsed_sections": []
    },
    "kernelspec": {
      "name": "python3",
      "display_name": "Python 3"
    }
  },
  "cells": [
    {
      "cell_type": "code",
      "metadata": {
        "id": "40934UEVBlkT",
        "outputId": "e1909f5b-8928-4355-fd62-0ced27795126",
        "colab": {
          "base_uri": "https://localhost:8080/"
        }
      },
      "source": [
        "from google.colab import drive\n",
        "drive.mount('/content/gdrive')"
      ],
      "execution_count": null,
      "outputs": [
        {
          "output_type": "stream",
          "text": [
            "Mounted at /content/gdrive\n"
          ],
          "name": "stdout"
        }
      ]
    },
    {
      "cell_type": "code",
      "metadata": {
        "id": "nQiBL0ynr-57",
        "outputId": "1d7ffec2-006a-4e09-93ce-751f669dd67e",
        "colab": {
          "base_uri": "https://localhost:8080/"
        }
      },
      "source": [
        "!apt-get -qq install -y tree"
      ],
      "execution_count": null,
      "outputs": [
        {
          "output_type": "stream",
          "text": [
            "Selecting previously unselected package tree.\n",
            "(Reading database ... 144786 files and directories currently installed.)\n",
            "Preparing to unpack .../tree_1.7.0-5_amd64.deb ...\n",
            "Unpacking tree (1.7.0-5) ...\n",
            "Setting up tree (1.7.0-5) ...\n",
            "Processing triggers for man-db (2.8.3-2ubuntu0.1) ...\n"
          ],
          "name": "stdout"
        }
      ]
    },
    {
      "cell_type": "code",
      "metadata": {
        "id": "s_IAluNc2Nh8"
      },
      "source": [
        "import keras, os, pickle\n",
        "from tensorflow.keras import layers\n",
        "from tensorflow.keras import models\n",
        "from tensorflow.keras import optimizers\n",
        "from keras.preprocessing.image import ImageDataGenerator\n",
        "import matplotlib.pyplot as plt\n",
        "from sklearn.metrics import confusion_matrix\n",
        "import numpy as np\n",
        "import pylab as pl\n",
        "import seaborn as sns"
      ],
      "execution_count": null,
      "outputs": []
    },
    {
      "cell_type": "code",
      "metadata": {
        "id": "dQt0za_2rw_6",
        "outputId": "1ecf8d78-a823-4715-a4f2-c4ce1c6d5c3f",
        "colab": {
          "base_uri": "https://localhost:8080/"
        }
      },
      "source": [
        "!tree '/content/gdrive/My Drive/dz6' -d ##four languages: German (de), English (en), Greek (gr), Russian (ru)"
      ],
      "execution_count": null,
      "outputs": [
        {
          "output_type": "stream",
          "text": [
            "/content/gdrive/My Drive/dz6\n",
            "├── saveb\n",
            "├── saved\n",
            "├── test\n",
            "│   ├── de\n",
            "│   ├── en\n",
            "│   ├── gr\n",
            "│   └── ru\n",
            "├── test2\n",
            "│   ├── de\n",
            "│   ├── en\n",
            "│   ├── gr\n",
            "│   └── ru\n",
            "├── train\n",
            "│   ├── de\n",
            "│   ├── en\n",
            "│   ├── gr\n",
            "│   └── ru\n",
            "└── train2\n",
            "    ├── de\n",
            "    ├── en\n",
            "    ├── gr\n",
            "    └── ru\n",
            "\n",
            "22 directories\n"
          ],
          "name": "stdout"
        }
      ]
    },
    {
      "cell_type": "code",
      "metadata": {
        "id": "8wnjCzd3Oi7Z"
      },
      "source": [
        "train_dir = '/content/gdrive/My Drive/dz6/train/'\n",
        "test_dir = '/content/gdrive/My Drive/dz6/test/'"
      ],
      "execution_count": null,
      "outputs": []
    },
    {
      "cell_type": "code",
      "metadata": {
        "id": "APa5MSS5QyuJ",
        "outputId": "438c9eeb-9466-4883-ad59-46d2dacc3180",
        "colab": {
          "base_uri": "https://localhost:8080/"
        }
      },
      "source": [
        "model = models.Sequential()\n",
        "model.add(layers.Conv2D(32, (3, 3), activation='relu',\n",
        "                        input_shape=(150, 150, 3)))\n",
        "model.add(layers.MaxPooling2D((2, 2)))\n",
        "model.add(layers.Conv2D(64, (3, 3), activation='relu'))\n",
        "model.add(layers.MaxPooling2D((2, 2)))\n",
        "model.add(layers.Conv2D(128, (3, 3), activation='relu'))\n",
        "model.add(layers.MaxPooling2D((2, 2)))\n",
        "model.add(layers.Conv2D(128, (3, 3), activation='relu'))\n",
        "model.add(layers.MaxPooling2D((2, 2)))\n",
        "model.add(layers.Flatten())\n",
        "model.add(layers.Dense(512, activation='relu'))\n",
        "model.add(layers.Dense(4, activation='softmax'))\n",
        "model.summary()"
      ],
      "execution_count": null,
      "outputs": [
        {
          "output_type": "stream",
          "text": [
            "Model: \"sequential\"\n",
            "_________________________________________________________________\n",
            "Layer (type)                 Output Shape              Param #   \n",
            "=================================================================\n",
            "conv2d (Conv2D)              (None, 148, 148, 32)      896       \n",
            "_________________________________________________________________\n",
            "max_pooling2d (MaxPooling2D) (None, 74, 74, 32)        0         \n",
            "_________________________________________________________________\n",
            "conv2d_1 (Conv2D)            (None, 72, 72, 64)        18496     \n",
            "_________________________________________________________________\n",
            "max_pooling2d_1 (MaxPooling2 (None, 36, 36, 64)        0         \n",
            "_________________________________________________________________\n",
            "conv2d_2 (Conv2D)            (None, 34, 34, 128)       73856     \n",
            "_________________________________________________________________\n",
            "max_pooling2d_2 (MaxPooling2 (None, 17, 17, 128)       0         \n",
            "_________________________________________________________________\n",
            "conv2d_3 (Conv2D)            (None, 15, 15, 128)       147584    \n",
            "_________________________________________________________________\n",
            "max_pooling2d_3 (MaxPooling2 (None, 7, 7, 128)         0         \n",
            "_________________________________________________________________\n",
            "flatten (Flatten)            (None, 6272)              0         \n",
            "_________________________________________________________________\n",
            "dense (Dense)                (None, 512)               3211776   \n",
            "_________________________________________________________________\n",
            "dense_1 (Dense)              (None, 4)                 2052      \n",
            "=================================================================\n",
            "Total params: 3,454,660\n",
            "Trainable params: 3,454,660\n",
            "Non-trainable params: 0\n",
            "_________________________________________________________________\n"
          ],
          "name": "stdout"
        }
      ]
    },
    {
      "cell_type": "code",
      "metadata": {
        "id": "vAxLUIzWeRVg"
      },
      "source": [
        "model.compile(loss='sparse_categorical_crossentropy',\n",
        "              optimizer=optimizers.RMSprop(lr=1e-4),\n",
        "              metrics=['acc'])"
      ],
      "execution_count": null,
      "outputs": []
    },
    {
      "cell_type": "code",
      "metadata": {
        "id": "ZlIbc3MWQ9Mg",
        "outputId": "7b10411e-64a8-41c1-a107-31093b46de0d",
        "colab": {
          "base_uri": "https://localhost:8080/"
        }
      },
      "source": [
        "# All images will be rescaled by 1./255\n",
        "train_datagen = ImageDataGenerator(rescale=1./255)\n",
        "test_datagen = ImageDataGenerator(rescale=1./255)\n",
        "\n",
        "train_generator = train_datagen.flow_from_directory(\n",
        "        # This is the target directory\n",
        "        train_dir,\n",
        "        # All images will be resized\n",
        "        target_size=(150, 150),\n",
        "        batch_size=40,\n",
        "        # Since we use sparse_categorical_crossentropy loss, we need sparse labels\n",
        "        class_mode='sparse',\n",
        "        shuffle=False)\n",
        "\n",
        "test_generator = test_datagen.flow_from_directory(\n",
        "        test_dir,\n",
        "        target_size=(150, 150),\n",
        "        batch_size=40,\n",
        "        class_mode='sparse',\n",
        "        shuffle=False)"
      ],
      "execution_count": null,
      "outputs": [
        {
          "output_type": "stream",
          "text": [
            "Found 320 images belonging to 4 classes.\n",
            "Found 80 images belonging to 4 classes.\n"
          ],
          "name": "stdout"
        }
      ]
    },
    {
      "cell_type": "code",
      "metadata": {
        "id": "YNxcbtphRV_I",
        "outputId": "1f44dd0f-6e91-4b0a-e95c-2daa2ff6dd4d",
        "colab": {
          "base_uri": "https://localhost:8080/"
        }
      },
      "source": [
        "for data_batch, labels_batch in train_generator:\n",
        "    print('data batch shape:', data_batch.shape)\n",
        "    print('labels batch shape:', labels_batch.shape)\n",
        "    break"
      ],
      "execution_count": null,
      "outputs": [
        {
          "output_type": "stream",
          "text": [
            "data batch shape: (40, 150, 150, 3)\n",
            "labels batch shape: (40,)\n"
          ],
          "name": "stdout"
        }
      ]
    },
    {
      "cell_type": "code",
      "metadata": {
        "id": "JLXH0ABaOqf2",
        "outputId": "79905535-a0ee-46ea-c357-1fe745b9052b",
        "colab": {
          "base_uri": "https://localhost:8080/"
        }
      },
      "source": [
        "##import pickle\n",
        "checkpoint = keras.callbacks.ModelCheckpoint('/content/gdrive/My Drive/dz6/languages{epoch:01d}.h5')  \n",
        "history = model.fit_generator(\n",
        "      train_generator,\n",
        "      steps_per_epoch=8,\n",
        "      epochs=20,\n",
        "      callbacks=[checkpoint],\n",
        "      validation_data=test_generator)"
      ],
      "execution_count": null,
      "outputs": [
        {
          "output_type": "stream",
          "text": [
            "WARNING:tensorflow:From <ipython-input-10-1f0b43a6c000>:8: Model.fit_generator (from tensorflow.python.keras.engine.training) is deprecated and will be removed in a future version.\n",
            "Instructions for updating:\n",
            "Please use Model.fit, which supports generators.\n",
            "Epoch 1/20\n",
            "8/8 [==============================] - 163s 20s/step - loss: 1.8523 - acc: 0.1250 - val_loss: 1.3778 - val_acc: 0.2500\n",
            "Epoch 2/20\n",
            "8/8 [==============================] - 19s 2s/step - loss: 1.4732 - acc: 0.1250 - val_loss: 1.3739 - val_acc: 0.4625\n",
            "Epoch 3/20\n",
            "8/8 [==============================] - 19s 2s/step - loss: 1.4462 - acc: 0.2313 - val_loss: 1.3747 - val_acc: 0.2500\n",
            "Epoch 4/20\n",
            "8/8 [==============================] - 19s 2s/step - loss: 1.4401 - acc: 0.1250 - val_loss: 1.3671 - val_acc: 0.6625\n",
            "Epoch 5/20\n",
            "8/8 [==============================] - 19s 2s/step - loss: 1.4092 - acc: 0.1000 - val_loss: 1.3606 - val_acc: 0.6875\n",
            "Epoch 6/20\n",
            "8/8 [==============================] - 19s 2s/step - loss: 1.3925 - acc: 0.2438 - val_loss: 1.3495 - val_acc: 0.4000\n",
            "Epoch 7/20\n",
            "8/8 [==============================] - 19s 2s/step - loss: 1.3808 - acc: 0.2937 - val_loss: 1.3310 - val_acc: 0.3500\n",
            "Epoch 8/20\n",
            "8/8 [==============================] - 19s 2s/step - loss: 1.3720 - acc: 0.3906 - val_loss: 1.3075 - val_acc: 0.6000\n",
            "Epoch 9/20\n",
            "8/8 [==============================] - 19s 2s/step - loss: 1.3311 - acc: 0.3594 - val_loss: 1.2801 - val_acc: 0.4750\n",
            "Epoch 10/20\n",
            "8/8 [==============================] - 18s 2s/step - loss: 1.3036 - acc: 0.2219 - val_loss: 1.2020 - val_acc: 0.5250\n",
            "Epoch 11/20\n",
            "8/8 [==============================] - 19s 2s/step - loss: 1.2240 - acc: 0.5781 - val_loss: 1.1278 - val_acc: 0.5000\n",
            "Epoch 12/20\n",
            "8/8 [==============================] - 19s 2s/step - loss: 1.1415 - acc: 0.5719 - val_loss: 1.0065 - val_acc: 0.9125\n",
            "Epoch 13/20\n",
            "8/8 [==============================] - 19s 2s/step - loss: 0.9887 - acc: 0.6875 - val_loss: 0.9024 - val_acc: 0.7875\n",
            "Epoch 14/20\n",
            "8/8 [==============================] - 19s 2s/step - loss: 0.8226 - acc: 0.7188 - val_loss: 0.8732 - val_acc: 0.5750\n",
            "Epoch 15/20\n",
            "8/8 [==============================] - 19s 2s/step - loss: 0.6601 - acc: 0.7250 - val_loss: 0.7148 - val_acc: 0.7000\n",
            "Epoch 16/20\n",
            "8/8 [==============================] - 19s 2s/step - loss: 0.6642 - acc: 0.7656 - val_loss: 0.6084 - val_acc: 0.8250\n",
            "Epoch 17/20\n",
            "8/8 [==============================] - 19s 2s/step - loss: 0.5013 - acc: 0.7875 - val_loss: 0.5955 - val_acc: 0.8250\n",
            "Epoch 18/20\n",
            "8/8 [==============================] - 19s 2s/step - loss: 0.4334 - acc: 0.8562 - val_loss: 0.6932 - val_acc: 0.7375\n",
            "Epoch 19/20\n",
            "8/8 [==============================] - 19s 2s/step - loss: 0.4356 - acc: 0.7688 - val_loss: 0.5654 - val_acc: 0.8875\n",
            "Epoch 20/20\n",
            "8/8 [==============================] - 19s 2s/step - loss: 0.4078 - acc: 0.8094 - val_loss: 0.5726 - val_acc: 0.8875\n"
          ],
          "name": "stdout"
        }
      ]
    },
    {
      "cell_type": "code",
      "metadata": {
        "id": "PPkjeDrBz8CL",
        "outputId": "248ee3ab-288a-44b0-9b9f-e14aded65bf4",
        "colab": {
          "base_uri": "https://localhost:8080/",
          "height": 281
        }
      },
      "source": [
        "plt.plot(range(len(history.history['acc'])), history.history['acc'], 'b', label='Training acc')\n",
        "plt.plot(range(len(history.history['loss'])), history.history['loss'], 'bo', label='Training loss')\n",
        "plt.title('Training accuracy and loss')\n",
        "plt.legend()\n",
        "plt.show()"
      ],
      "execution_count": null,
      "outputs": [
        {
          "output_type": "display_data",
          "data": {
            "image/png": "[encoded data removed]",
            "text/plain": [
              "<Figure size 432x288 with 1 Axes>"
            ]
          },
          "metadata": {
            "tags": [],
            "needs_background": "light"
          }
        }
      ]
    },
    {
      "cell_type": "code",
      "metadata": {
        "id": "Sb0VpJaV2FbD",
        "outputId": "b9cc6483-7523-407e-cc65-bb1e3c4ad74f",
        "colab": {
          "base_uri": "https://localhost:8080/"
        }
      },
      "source": [
        "for a in range(20):\n",
        "  model.load_weights('/content/gdrive/My Drive/dz6/languages'+str(a+1)+'.h5')\n",
        "  scores = model.evaluate_generator(test_generator)\n",
        "  print(a+1, \"%s: %.2f%%\" % (model.metrics_names[1], scores[1]*100))"
      ],
      "execution_count": null,
      "outputs": [
        {
          "output_type": "stream",
          "text": [
            "WARNING:tensorflow:From <ipython-input-12-f1c647912dd1>:3: Model.evaluate_generator (from tensorflow.python.keras.engine.training) is deprecated and will be removed in a future version.\n",
            "Instructions for updating:\n",
            "Please use Model.evaluate, which supports generators.\n",
            "1 acc: 25.00%\n",
            "2 acc: 46.25%\n",
            "3 acc: 25.00%\n",
            "4 acc: 66.25%\n",
            "5 acc: 68.75%\n",
            "6 acc: 40.00%\n",
            "7 acc: 35.00%\n",
            "8 acc: 60.00%\n",
            "9 acc: 47.50%\n",
            "10 acc: 52.50%\n",
            "11 acc: 50.00%\n",
            "12 acc: 91.25%\n",
            "13 acc: 78.75%\n",
            "14 acc: 57.50%\n",
            "15 acc: 70.00%\n",
            "16 acc: 82.50%\n",
            "17 acc: 82.50%\n",
            "18 acc: 73.75%\n",
            "19 acc: 88.75%\n",
            "20 acc: 88.75%\n"
          ],
          "name": "stdout"
        }
      ]
    },
    {
      "cell_type": "code",
      "metadata": {
        "id": "LWvyDeQnQgiA",
        "outputId": "5a324993-37d2-4253-f037-560f9cecd0c9",
        "colab": {
          "base_uri": "https://localhost:8080/"
        }
      },
      "source": [
        "model.load_weights('/content/gdrive/My Drive/dz6/languages12.h5')\n",
        "scores = model.evaluate_generator(test_generator)\n",
        "scores[1]*100"
      ],
      "execution_count": null,
      "outputs": [
        {
          "output_type": "execute_result",
          "data": {
            "text/plain": [
              "91.25000238418579"
            ]
          },
          "metadata": {
            "tags": []
          },
          "execution_count": 13
        }
      ]
    },
    {
      "cell_type": "code",
      "metadata": {
        "id": "SOWjLk3MLyEs",
        "outputId": "c17dcca3-810e-43ca-9129-86b7d8af0b34",
        "colab": {
          "base_uri": "https://localhost:8080/",
          "height": 381
        }
      },
      "source": [
        "cm=confusion_matrix(test_generator.classes, model.predict_classes(test_generator),normalize='true')\n",
        "figure = pl.figure() \n",
        "axes = figure.add_subplot(111)\n",
        "sns.heatmap(cm, annot=True, ax = axes);\n",
        "axes.set_xlabel('Predicted labels');axes.set_ylabel('True labels'); \n",
        "axes.set_xticklabels(['de', 'en', 'gr', 'ru']) \n",
        "axes.set_yticklabels(['de', 'en', 'gr', 'ru']) \n",
        "pl.title('Confusion matrix \\n')\n",
        "pl.show()"
      ],
      "execution_count": null,
      "outputs": [
        {
          "output_type": "stream",
          "text": [
            "WARNING:tensorflow:From <ipython-input-14-38ae1fec53b0>:1: Sequential.predict_classes (from tensorflow.python.keras.engine.sequential) is deprecated and will be removed after 2021-01-01.\n",
            "Instructions for updating:\n",
            "Please use instead:* `np.argmax(model.predict(x), axis=-1)`,   if your model does multi-class classification   (e.g. if it uses a `softmax` last-layer activation).* `(model.predict(x) > 0.5).astype(\"int32\")`,   if your model does binary classification   (e.g. if it uses a `sigmoid` last-layer activation).\n"
          ],
          "name": "stdout"
        },
        {
          "output_type": "display_data",
          "data": {
            "image/png": "[encoded data removed]",
            "text/plain": [
              "<Figure size 432x288 with 2 Axes>"
            ]
          },
          "metadata": {
            "tags": [],
            "needs_background": "light"
          }
        }
      ]
    }
  ]
}